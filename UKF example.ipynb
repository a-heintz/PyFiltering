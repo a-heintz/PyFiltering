{
 "cells": [
  {
   "cell_type": "code",
   "execution_count": 1,
   "metadata": {},
   "outputs": [],
   "source": [
    "from filterpy.kalman import JulierSigmaPoints, MerweScaledSigmaPoints\n",
    "import numpy as np\n",
    "\n",
    "import matplotlib.pyplot as plt\n",
    "sigmas = JulierSigmaPoints(n=2, kappa=1)\n",
    "sigmas = MerweScaledSigmaPoints(2, alpha=0.1, beta=2., kappa=-1)\n"
   ]
  },
  {
   "cell_type": "code",
   "execution_count": 2,
   "metadata": {},
   "outputs": [],
   "source": [
    "def fx(x, dt):\n",
    "    xout = np.empty_like(x)\n",
    "    xout[0] = x[1] * dt + x[0]\n",
    "    xout[1] = x[1]\n",
    "    return xout\n",
    "\n",
    "def hx(x):\n",
    "    return x[:1] # return position [x]"
   ]
  },
  {
   "cell_type": "code",
   "execution_count": 3,
   "metadata": {},
   "outputs": [
    {
     "data": {
      "image/png": "[encoded data removed]",
      "text/plain": [
       "<Figure size 432x288 with 1 Axes>"
      ]
     },
     "metadata": {
      "needs_background": "light"
     },
     "output_type": "display_data"
    }
   ],
   "source": [
    "from numpy.random import randn\n",
    "from filterpy.kalman import UnscentedKalmanFilter\n",
    "\n",
    "ukf = UnscentedKalmanFilter(dim_x=2, dim_z=1, dt=1., hx=hx, fx=fx, points=sigmas)\n",
    "ukf.P *= 10\n",
    "ukf.R *= .5\n",
    "ukf.Q = Q_discrete_white_noise(2, dt=1., var=0.03)\n",
    "\n",
    "zs, xs = [], []\n",
    "for i in range(50):\n",
    "    z = i + randn()*.5\n",
    "    ukf.predict()\n",
    "    ukf.update(z)\n",
    "    xs.append(ukf.x[0])\n",
    "    zs.append(z)\n",
    "    \n",
    "plt.plot(xs);\n",
    "plt.plot(zs, marker='x', ls='');"
   ]
  },
  {
   "cell_type": "code",
   "execution_count": null,
   "metadata": {},
   "outputs": [],
   "source": []
  }
 ],
 "metadata": {
  "kernelspec": {
   "display_name": "Python 3",
   "language": "python",
   "name": "python3"
  },
  "language_info": {
   "codemirror_mode": {
    "name": "ipython",
    "version": 3
   },
   "file_extension": ".py",
   "mimetype": "text/x-python",
   "name": "python",
   "nbconvert_exporter": "python",
   "pygments_lexer": "ipython3",
   "version": "3.7.7"
  }
 },
 "nbformat": 4,
 "nbformat_minor": 4
}
